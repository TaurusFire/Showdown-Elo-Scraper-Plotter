{
 "cells": [
  {
   "cell_type": "code",
   "execution_count": 1,
   "metadata": {},
   "outputs": [],
   "source": [
    "#import dependencies\n",
    "from bs4 import BeautifulSoup\n",
    "from datetime import datetime\n",
    "import requests \n",
    "import pandas as pd\n",
    "import os"
   ]
  },
  {
   "cell_type": "code",
   "execution_count": 53,
   "metadata": {},
   "outputs": [],
   "source": [
    "def retreive_stats_page_text():\n",
    "    stats_page = requests.get(\"https://pokemonshowdown.com/users/chillidawg\")\n",
    "    stats_page_soup = BeautifulSoup(stats_page.content, \"html.parser\")\n",
    "    stats_page_text = stats_page_soup.text\n",
    "    return stats_page_text\n",
    "\n",
    "def obtain_randbats_elo(page_text):\n",
    "    ladder_index = page_text.find(\"gen9randombattle\")\n",
    "    start_number_index = ladder_index + len(\"gen9randombattle\")\n",
    "    end_number_index = start_number_index + 4\n",
    "    return page_text[start_number_index: end_number_index]\n",
    "\n",
    "#add a check to see if elo has changed\n",
    "\n",
    "def obtain_formatted_date():\n",
    "    now = datetime.now()\n",
    "    return now.strftime(\"%d/%m/%Y %H:%M:%S\")\n",
    "\n",
    "def find(name, path):\n",
    "    \"\"\"finds the csv file\"\"\"\n",
    "    for root, dirs, files in os.walk(path):\n",
    "        if name in files:\n",
    "            return os.path.join(root,name) \n",
    "        else:\n",
    "            return None\n",
    "\n",
    "def update_csv():\n",
    "    \"\"\"if csv file present, change into pandas dataframe before updating. if no csv file present, make one\"\"\"\n",
    "\n",
    "    new_row = {'datetime': obtain_formatted_date(), 'Elo': obtain_randbats_elo(retreive_stats_page_text())}\n",
    "    randbats_elos_csv = find('randbats_elo.csv', '.')\n",
    "\n",
    "    if randbats_elos_csv == None:\n",
    "        randbats_elos = pd.DataFrame(new_row, index=[0])\n",
    "    else:\n",
    "        randbats_elos = pd.read_csv(randbats_elos_csv)\n",
    "        print(randbats_elos, new_row)\n",
    "\n",
    "        randbats_elos = randbats_elos.append(new_row, ignore_index = True)\n",
    "        print(randbats_elos)\n",
    "\n",
    "    randbats_elos.to_csv('randbats_elo.csv', index=False)"
   ]
  },
  {
   "cell_type": "code",
   "execution_count": 55,
   "metadata": {},
   "outputs": [
    {
     "name": "stdout",
     "output_type": "stream",
     "text": [
      "              datetime   Elo\n",
      "0  09/11/2023 16:36:50  1831\n",
      "1  09/11/2023 16:41:19  1831 {'datetime': '09/11/2023 16:56:57', 'Elo': '1831'}\n",
      "              datetime   Elo\n",
      "0  09/11/2023 16:36:50  1831\n",
      "1  09/11/2023 16:41:19  1831\n",
      "2  09/11/2023 16:56:57  1831\n"
     ]
    },
    {
     "name": "stderr",
     "output_type": "stream",
     "text": [
      "/var/folders/1q/8vymbqss1bgdgr4kvck49gtw0000gn/T/ipykernel_1049/3846074680.py:39: FutureWarning: The frame.append method is deprecated and will be removed from pandas in a future version. Use pandas.concat instead.\n",
      "  randbats_elos = randbats_elos.append(new_row, ignore_index = True)\n"
     ]
    }
   ],
   "source": [
    "update_csv()"
   ]
  },
  {
   "cell_type": "code",
   "execution_count": null,
   "metadata": {},
   "outputs": [],
   "source": []
  }
 ],
 "metadata": {
  "kernelspec": {
   "display_name": "base",
   "language": "python",
   "name": "python3"
  },
  "language_info": {
   "codemirror_mode": {
    "name": "ipython",
    "version": 3
   },
   "file_extension": ".py",
   "mimetype": "text/x-python",
   "name": "python",
   "nbconvert_exporter": "python",
   "pygments_lexer": "ipython3",
   "version": "3.9.13"
  },
  "orig_nbformat": 4
 },
 "nbformat": 4,
 "nbformat_minor": 2
}
