{
 "cells": [
  {
   "cell_type": "code",
   "execution_count": 48,
   "metadata": {},
   "outputs": [],
   "source": [
    "#import dependencies\n",
    "from bs4 import BeautifulSoup\n",
    "from datetime import datetime\n",
    "import requests \n",
    "import pandas as pd\n",
    "import os\n",
    "import sys"
   ]
  },
  {
   "cell_type": "code",
   "execution_count": 49,
   "metadata": {},
   "outputs": [],
   "source": [
    "def retreive_stats_page_text():\n",
    "    stats_page = requests.get(\"https://pokemonshowdown.com/users/chillidawg\")\n",
    "    stats_page_soup = BeautifulSoup(stats_page.content, \"html.parser\")\n",
    "    stats_page_text = stats_page_soup.text\n",
    "    return stats_page_text\n",
    "\n",
    "def obtain_randbats_elo(page_text):\n",
    "    ladder_index = page_text.find(\"gen9randombattle\")\n",
    "    start_number_index = ladder_index + len(\"gen9randombattle\")\n",
    "    end_number_index = start_number_index + 4\n",
    "    return page_text[start_number_index: end_number_index]\n",
    "\n",
    "\n",
    "def obtain_formatted_date():\n",
    "    now = datetime.now()\n",
    "    return now.strftime(\"%d/%m/%Y %H:%M:%S\")\n",
    "\n",
    "def find(name, path):\n",
    "    \"\"\"finds the csv file\"\"\"\n",
    "    for root, dirs, files in os.walk(path):\n",
    "        if name in files:\n",
    "            return os.path.join(root,name) \n",
    "        else:\n",
    "            return None\n",
    "\n",
    "def is_new_elo_different(randbats_elos_df, new_elo):\n",
    "    last_elo = randbats_elos_df.iloc[len(randbats_elos_df)-1,1]\n",
    "    if int(new_elo) == int(last_elo):\n",
    "        return False\n",
    "    else:\n",
    "        return True\n",
    "\n",
    "\n",
    "def update_csv():\n",
    "    \"\"\"check if elo score has changed. then, if csv file present, \n",
    "    change into pandas dataframe before updating. if no csv file present, make one\"\"\"\n",
    "\n",
    "    new_row = {'datetime': obtain_formatted_date(), 'Elo': obtain_randbats_elo(retreive_stats_page_text())}\n",
    "    randbats_elos_csv = find('randbats_elo.csv', '.')\n",
    "\n",
    "    if randbats_elos_csv == None:\n",
    "        randbats_elos = pd.DataFrame(new_row, index=False)\n",
    "    else:\n",
    "        randbats_elos = pd.read_csv(randbats_elos_csv)\n",
    "\n",
    "        if is_new_elo_different(randbats_elos, new_row['Elo']):\n",
    "            print(is_new_elo_different(randbats_elos, new_row['Elo']))\n",
    "            randbats_elos = randbats_elos.append(new_row, ignore_index = True)\n",
    "            print(randbats_elos)\n",
    "            \n",
    "    randbats_elos.to_csv('randbats_elo.csv', index=False)\n"
   ]
  },
  {
   "cell_type": "code",
   "execution_count": 18,
   "metadata": {},
   "outputs": [],
   "source": [
    "update_csv()"
   ]
  }
 ],
 "metadata": {
  "kernelspec": {
   "display_name": "base",
   "language": "python",
   "name": "python3"
  },
  "language_info": {
   "codemirror_mode": {
    "name": "ipython",
    "version": 3
   },
   "file_extension": ".py",
   "mimetype": "text/x-python",
   "name": "python",
   "nbconvert_exporter": "python",
   "pygments_lexer": "ipython3",
   "version": "3.9.13"
  },
  "orig_nbformat": 4
 },
 "nbformat": 4,
 "nbformat_minor": 2
}
