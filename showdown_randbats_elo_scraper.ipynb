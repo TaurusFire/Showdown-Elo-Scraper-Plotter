{
 "cells": [
  {
   "cell_type": "code",
   "execution_count": 32,
   "metadata": {},
   "outputs": [],
   "source": [
    "#import dependencies\n",
    "from bs4 import BeautifulSoup\n",
    "from datetime import datetime\n",
    "import requests \n",
    "import pandas as pd\n",
    "import os"
   ]
  },
  {
   "cell_type": "code",
   "execution_count": 13,
   "metadata": {},
   "outputs": [],
   "source": [
    "#scrape showdown data and obtain elo\n",
    "def retreiveStatsPage():\n",
    "    stats_page = requests.get(\"https://pokemonshowdown.com/users/chillidawg\")\n",
    "    stats_page_soup = BeautifulSoup(stats_page.content, \"html.parser\")\n",
    "    stats_page_text = stats_page_soup.text\n",
    "    return stats_page_text\n",
    "\n",
    "def obtainRandbatsElo(page_text):\n",
    "    start_number_index = ladder_index + len(\"gen9randombattle\")\n",
    "    end_number_index = start_number_index + 4\n",
    "    print(stats_page_text[start_number_index: end_number_index])\n",
    "\n",
    "def obtainFormattedDate():\n",
    "    now = datetime.now()\n",
    "    return now.strftime(\"%d/%m/%Y %H:%M:%S\")"
   ]
  },
  {
   "cell_type": "code",
   "execution_count": 31,
   "metadata": {},
   "outputs": [
    {
     "data": {
      "text/plain": [
       "('09/11/2023 00:05:25', '1816')"
      ]
     },
     "execution_count": 31,
     "metadata": {},
     "output_type": "execute_result"
    }
   ],
   "source": [
    "#find csv file\n",
    "def find(name, path):\n",
    "    for root, dirs, files in os.walk(path):\n",
    "        if name in files:\n",
    "            return os.path.join(root,name) #directory of needed file\n",
    "\n",
    "\n",
    "#if csv file, change into pandas dataframe\n",
    "randbats_elos = pd.read_csv(find('randbats_elo.csv', '/'))\n",
    "#if no csv file, create dataframe and then convert to csv file later.\n",
    "\n",
    "    \n",
    "#create and append new datetime and elo\n",
    "new_row = {'datetime': obtainFormattedDate, 'Elo': obtainRandbatsElo(retreiveStatsPage)}\n",
    "randbats_elos.append(new_row, ignore_index = True)\n",
    "\n",
    "#convert back to csv file\n",
    "randbats_elos.to_csv('randbats_elo.csv')\n",
    "\n",
    "\n"
   ]
  },
  {
   "cell_type": "code",
   "execution_count": null,
   "metadata": {},
   "outputs": [],
   "source": []
  }
 ],
 "metadata": {
  "kernelspec": {
   "display_name": "base",
   "language": "python",
   "name": "python3"
  },
  "language_info": {
   "codemirror_mode": {
    "name": "ipython",
    "version": 3
   },
   "file_extension": ".py",
   "mimetype": "text/x-python",
   "name": "python",
   "nbconvert_exporter": "python",
   "pygments_lexer": "ipython3",
   "version": "3.9.13"
  },
  "orig_nbformat": 4
 },
 "nbformat": 4,
 "nbformat_minor": 2
}
