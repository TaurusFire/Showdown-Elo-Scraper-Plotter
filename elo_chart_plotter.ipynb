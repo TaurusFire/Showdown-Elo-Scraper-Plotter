{
 "cells": [
  {
   "cell_type": "code",
   "execution_count": 18,
   "metadata": {},
   "outputs": [],
   "source": [
    "import pandas as pd\n",
    "import numpy as np\n",
    "import matplotlib.pyplot as plt\n",
    "from showdown_randbats_elo_scraper import *"
   ]
  },
  {
   "cell_type": "code",
   "execution_count": 37,
   "metadata": {},
   "outputs": [],
   "source": [
    "def generate_tick_labels(elo_csv):\n",
    "    \"\"\"create array with dates for locations where the date changes\"\"\"\n",
    "    elo_df = pd.read_csv(elo_csv)\n",
    "\n",
    "    tick_label_array = [elo_df['datetime'][0][:10]]\n",
    "    \n",
    "    for i in range(1, len(elo_df['datetime'])):\n",
    "\n",
    "        current_date = elo_df['datetime'][i][:10]\n",
    "        prev_date = elo_df['datetime'][i-1][:10]\n",
    "\n",
    "        if prev_date != current_date:\n",
    "            tick_label_array.append(current_date)\n",
    "        else:\n",
    "            tick_label_array.append('')\n",
    "            \n",
    "    return tick_label_array\n",
    "\n",
    "def generate_chart(elo_csv):\n",
    "    \n",
    "    elo_df = pd.read_csv(elo_csv)\n",
    "    #create and present plot\n",
    "    fig, ax = plt.subplots()\n",
    "    plt.plot(range(1,len(elo_df['datetime'])+1), elo_df['Elo'])\n",
    "    ax.set_xticks(ticks = np.arange(1, len(elo_df['datetime'])+1,1), labels = generate_tick_labels(elo_csv))\n",
    "    plt.xticks(rotation = 65, ha = 'right')\n",
    "    ax.set_xlabel('Date')\n",
    "    ax.set_ylabel('Elo')\n",
    "    ax.set_title('Gen 9 Random Battle Elo Over Time')\n",
    "    plt.show()"
   ]
  },
  {
   "cell_type": "code",
   "execution_count": null,
   "metadata": {},
   "outputs": [],
   "source": [
    "update_csv()\n",
    "generate_chart('./randbats_elo.csv')"
   ]
  },
  {
   "cell_type": "code",
   "execution_count": null,
   "metadata": {},
   "outputs": [],
   "source": []
  }
 ],
 "metadata": {
  "kernelspec": {
   "display_name": "base",
   "language": "python",
   "name": "python3"
  },
  "language_info": {
   "codemirror_mode": {
    "name": "ipython",
    "version": 3
   },
   "file_extension": ".py",
   "mimetype": "text/x-python",
   "name": "python",
   "nbconvert_exporter": "python",
   "pygments_lexer": "ipython3",
   "version": "3.9.13"
  },
  "orig_nbformat": 4
 },
 "nbformat": 4,
 "nbformat_minor": 2
}
